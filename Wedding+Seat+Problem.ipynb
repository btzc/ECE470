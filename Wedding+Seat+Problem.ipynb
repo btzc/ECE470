{
 "cells": [
  {
   "cell_type": "code",
   "execution_count": null,
   "metadata": {
    "collapsed": true
   },
   "outputs": [],
   "source": [
    "import random\n",
    "import numpy\n",
    "import itertools\n",
    "import math\n",
    "\n",
    "from deap import base\n",
    "from deap import creator\n",
    "from deap import tools\n",
    "from deap.algorithms import eaSimple"
   ]
  },
  {
   "cell_type": "code",
   "execution_count": null,
   "metadata": {
    "collapsed": true
   },
   "outputs": [],
   "source": [
    "INPUT_FILE = 'data1.txt'"
   ]
  },
  {
   "cell_type": "code",
   "execution_count": null,
   "metadata": {
    "collapsed": true
   },
   "outputs": [],
   "source": [
    "# Helper functions\n",
    "\n",
    "# Create an iterator to iterate over another iterator in chunks\n",
    "def grouper(iterable, n, fillvalue=None):\n",
    "    args = [iter(iterable)] * n\n",
    "    return itertools.zip_longest(*args, fillvalue=fillvalue)"
   ]
  },
  {
   "cell_type": "code",
   "execution_count": null,
   "metadata": {
    "collapsed": true
   },
   "outputs": [],
   "source": [
    "num_people = 0\n",
    "num_tables = 0\n",
    "num_seats_per_table = 0\n",
    "num_preferred_together = 0\n",
    "num_preferred_apart = 0\n",
    "preferred_together = []\n",
    "preferred_apart = []"
   ]
  },
  {
   "cell_type": "code",
   "execution_count": null,
   "metadata": {},
   "outputs": [],
   "source": [
    "def parse_pairs_from_file(f, num_pairs):\n",
    "    preferences = [[] for i in range(num_people)]\n",
    "    \n",
    "    for i in range(num_pairs):\n",
    "        x, y = [int(x) for x in f.readline().split()]\n",
    "        \n",
    "        assert(x != y and x >= 0 and x < num_people and y >= 0 and y < num_people)\n",
    "            \n",
    "        if not y in preferences[x]:\n",
    "            preferences[x].append(y)\n",
    "            preferences[y].append(x)\n",
    "\n",
    "    return preferences\n",
    "\n",
    "def load_from_file():\n",
    "    global num_people, num_tables, num_seats_per_table, preferred_together, preferred_apart\n",
    "    \n",
    "    with open(INPUT_FILE, 'r') as f:\n",
    "        # skip header line\n",
    "        f.readline()\n",
    "        \n",
    "        config = [int(x) for x in f.readline().split()]\n",
    "        num_people = config[0]\n",
    "        num_tables = config[1]\n",
    "        num_seats_per_table = config[2]\n",
    "        num_preferred_together = config[3]\n",
    "        num_preferred_apart = config[4]\n",
    "    \n",
    "        # skip header line\n",
    "        f.readline()\n",
    "        \n",
    "        preferred_together = parse_pairs_from_file(f, num_preferred_together)\n",
    "            \n",
    "        # skip header line\n",
    "        f.readline()\n",
    "            \n",
    "        preferred_apart = parse_pairs_from_file(f, num_preferred_apart)\n",
    "        \n",
    "load_from_file()\n",
    "print('preferred together: {}'.format(preferred_together))\n",
    "print('preferred_apart: {}'.format(preferred_apart))\n"
   ]
  },
  {
   "cell_type": "code",
   "execution_count": null,
   "metadata": {
    "collapsed": true
   },
   "outputs": [],
   "source": [
    "num_empty_seats = num_tables * num_seats_per_table - num_people\n",
    "permutation_population = list(range(num_people)) + [None] * num_empty_seats\n",
    "\n",
    "permutation_population"
   ]
  },
  {
   "cell_type": "code",
   "execution_count": null,
   "metadata": {
    "collapsed": true
   },
   "outputs": [],
   "source": [
    "creator.create(\"FitnessMin\", base.Fitness, weights=(-1.0,))\n",
    "creator.create(\"Individual\", list, fitness=creator.FitnessMin)\n",
    "\n",
    "toolbox = base.Toolbox()\n",
    "\n",
    "toolbox.register(\"permutation\", random.sample, permutation_population, len(permutation_population))\n",
    "toolbox.register(\"individual\", tools.initIterate, creator.Individual, toolbox.permutation)\n",
    "toolbox.register(\"population\", tools.initRepeat, list, toolbox.individual)"
   ]
  },
  {
   "cell_type": "code",
   "execution_count": null,
   "metadata": {
    "collapsed": true
   },
   "outputs": [],
   "source": [
    "def evaluate(num_seats_per_table, preferred_together, preferred_apart, individual):\n",
    "    penalty = 0\n",
    "    num_people = len(preferred_together)\n",
    "    tables = grouper(individual, num_seats_per_table)\n",
    "    \n",
    "    for table in tables:\n",
    "        for person in table:\n",
    "            if person is None:\n",
    "                continue\n",
    "            \n",
    "            # Check that person is not alone when they should be with at\n",
    "            # least one other person\n",
    "            should_not_be_alone = False\n",
    "            is_alone = True\n",
    "            for other_person in preferred_together[person]:\n",
    "                should_not_be_alone = True\n",
    "                if other_person in table:\n",
    "                    is_alone = False\n",
    "                    break\n",
    "                    \n",
    "            if should_not_be_alone and is_alone:\n",
    "                penalty += 1\n",
    "                \n",
    "            # Only consider the people whose id is the lesser of the pair\n",
    "            # so that each symmetrical preference is calculated only once\n",
    "            for other_person in preferred_together[person]:\n",
    "                if other_person < person:\n",
    "                    continue\n",
    "                if other_person not in table:\n",
    "                    penalty += 1\n",
    "                    \n",
    "            for other_person in preferred_apart[person]:\n",
    "                if other_person < person:\n",
    "                    continue\n",
    "                if other_person in table:\n",
    "                    penalty += 1\n",
    "            \n",
    "            \n",
    "    return penalty,\n",
    "\n",
    "toolbox.register(\"evaluate\", evaluate, num_seats_per_table, preferred_together, preferred_apart)"
   ]
  },
  {
   "cell_type": "code",
   "execution_count": null,
   "metadata": {
    "collapsed": true
   },
   "outputs": [],
   "source": [
    "# TODO choose a suitable mate function or implement a custom function\n",
    "toolbox.register(\"mate\", tools.cxTwoPoint)"
   ]
  },
  {
   "cell_type": "code",
   "execution_count": null,
   "metadata": {
    "collapsed": true
   },
   "outputs": [],
   "source": [
    "# TODO choose a suitable mutate function or implement a custom function\n",
    "toolbox.register(\"mutate\", tools.mutGaussian, mu=0, sigma=1, indpb=0.1)"
   ]
  },
  {
   "cell_type": "code",
   "execution_count": null,
   "metadata": {
    "collapsed": true
   },
   "outputs": [],
   "source": [
    "# TODO choose a suitable select function or implement a custom function\n",
    "toolbox.register(\"select\", tools.selTournament, tournsize=3)"
   ]
  },
  {
   "cell_type": "code",
   "execution_count": null,
   "metadata": {
    "collapsed": true
   },
   "outputs": [],
   "source": [
    "# Starting population\n",
    "seed_population = toolbox.population()\n",
    "seed_population"
   ]
  },
  {
   "cell_type": "code",
   "execution_count": null,
   "metadata": {
    "collapsed": true
   },
   "outputs": [],
   "source": [
    "seed_population_size = 10\n",
    "mate_probability = 0.5\n",
    "mutate_probability = 0.2\n",
    "number_generations = 40\n",
    "\n",
    "def main():\n",
    "    random.seed(10)\n",
    "    pop = toolbox.population(n=seed_population_size)\n",
    "    hof = tools.HallOfFame(1)\n",
    "    stats = tools.Statistics(lambda ind: ind.fitness.values)\n",
    "    stats.register(\"avg\", numpy.mean)\n",
    "    stats.register(\"std\", numpy.std)\n",
    "    stats.register(\"min\", numpy.min)\n",
    "    stats.register(\"max\", numpy.max)\n",
    "\n",
    "    eaSimple(pop, toolbox, mate_probability, mutate_probability, number_generations, stats, halloffame=hof)\n",
    "\n",
    "    return pop, stats, hof\n",
    "\n",
    "main()"
   ]
  },
  {
   "cell_type": "code",
   "execution_count": null,
   "metadata": {
    "collapsed": true
   },
   "outputs": [],
   "source": [
    "def test_evaluate():\n",
    "    num_people = 5\n",
    "    num_tables = 2\n",
    "    num_seats_per_table = 3\n",
    "    preferred_together = [\n",
    "        [ 1, 2 ],\n",
    "        [ 0 ],\n",
    "        [ 0 ],\n",
    "        [ ],\n",
    "        [ ]\n",
    "    ]\n",
    "    preferred_apart = [\n",
    "        [ ],\n",
    "        [ 3 ],\n",
    "        [ ],\n",
    "        [ 1 ],\n",
    "        [ ]\n",
    "    ]\n",
    "    \n",
    "    individual = [0, 1, 2, 3, 4, None]\n",
    "    assert(evaluate(num_seats_per_table, preferred_together, preferred_apart, individual) == (0,))\n",
    "    \n",
    "    individual = [0, 1, 3, 2, 4, None]\n",
    "    assert(evaluate(num_seats_per_table, preferred_together, preferred_apart, individual) == (3,))\n",
    "\n",
    "test_evaluate()"
   ]
  }
 ],
 "metadata": {
  "git": {
   "suppress_outputs": true
  },
  "kernelspec": {
   "display_name": "Python 3",
   "language": "python",
   "name": "python3"
  },
  "language_info": {
   "codemirror_mode": {
    "name": "ipython",
    "version": 3
   },
   "file_extension": ".py",
   "mimetype": "text/x-python",
   "name": "python",
   "nbconvert_exporter": "python",
   "pygments_lexer": "ipython3",
   "version": "3.6.1"
  }
 },
 "nbformat": 4,
 "nbformat_minor": 2
}
