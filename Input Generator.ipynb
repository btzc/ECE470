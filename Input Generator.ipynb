{
 "cells": [
  {
   "cell_type": "code",
   "execution_count": null,
   "metadata": {},
   "outputs": [],
   "source": [
    "import random\n",
    "\n",
    "NUM_GUESTS = 20\n",
    "NUM_TABLES = 5\n",
    "NUM_SEATS_PER_TABLE = 4\n",
    "DATA_FILE = 'data1.txt'\n",
    "\n",
    "assert(NUM_GUESTS <= NUM_TABLES * NUM_SEATS_PER_TABLE)\n",
    "\n",
    "NUM_PREFERRED_TOGETHER = round(NUM_GUESTS * 0.4)\n",
    "NUM_PREFERRED_APART = round(NUM_GUESTS * 0.2)"
   ]
  },
  {
   "cell_type": "code",
   "execution_count": null,
   "metadata": {},
   "outputs": [],
   "source": [
    "def generate_pairs(num_pairs, exclude_pairs = []):\n",
    "    pairs = []\n",
    "    while len(pairs) < num_pairs:\n",
    "        p1 = random.randint(0, NUM_GUESTS-1)\n",
    "        p2 = random.randint(0, NUM_GUESTS-1)\n",
    "        \n",
    "        while p1 == p2:\n",
    "            p2 = random.randint(0, NUM_GUESTS)\n",
    "            \n",
    "        pair = (min(p1, p2), max(p1, p2))\n",
    "        \n",
    "        if not pair in pairs and not pair in exclude_pairs:\n",
    "            pairs.append(pair)\n",
    "            \n",
    "    return pairs\n",
    "\n",
    "with open(DATA_FILE, 'w') as f:\n",
    "    f.write('num_guests num_tables num_seats_per_table num_preferred_together num_preferred_apart\\n')\n",
    "    f.write('{} {} {} {} {}\\n'.format(NUM_GUESTS, NUM_TABLES, NUM_SEATS_PER_TABLE, NUM_PREFERRED_TOGETHER, NUM_PREFERRED_APART))\n",
    "    \n",
    "    preferred_together = generate_pairs(NUM_PREFERRED_TOGETHER)\n",
    "    preferred_apart = generate_pairs(NUM_PREFERRED_APART, preferred_together)\n",
    "    \n",
    "    f.write('preferred together:\\n')\n",
    "    for x, y in preferred_together:\n",
    "        f.write('{} {}\\n'.format(x, y))\n",
    "    \n",
    "    f.write('preferred apart:\\n')\n",
    "    for x, y in preferred_apart:\n",
    "        f.write('{} {}\\n'.format(x, y))"
   ]
  }
 ],
 "metadata": {
  "git": {
   "suppress_outputs": true
  },
  "kernelspec": {
   "display_name": "Python 3",
   "language": "python",
   "name": "python3"
  },
  "language_info": {
   "codemirror_mode": {
    "name": "ipython",
    "version": 3
   },
   "file_extension": ".py",
   "mimetype": "text/x-python",
   "name": "python",
   "nbconvert_exporter": "python",
   "pygments_lexer": "ipython3",
   "version": "3.6.1"
  }
 },
 "nbformat": 4,
 "nbformat_minor": 2
}
